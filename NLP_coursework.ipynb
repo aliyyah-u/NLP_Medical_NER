{
  "nbformat": 4,
  "nbformat_minor": 0,
  "metadata": {
    "colab": {
      "provenance": [],
      "authorship_tag": "ABX9TyN0x1Y2bOawH/bnfN9u3xuV",
      "include_colab_link": true
    },
    "kernelspec": {
      "name": "python3",
      "display_name": "Python 3"
    },
    "language_info": {
      "name": "python"
    }
  },
  "cells": [
    {
      "cell_type": "markdown",
      "metadata": {
        "id": "view-in-github",
        "colab_type": "text"
      },
      "source": [
        "<a href=\"https://colab.research.google.com/github/aliyyah-u/NLP_Medical_NER/blob/main/NLP_coursework.ipynb\" target=\"_parent\"><img src=\"https://colab.research.google.com/assets/colab-badge.svg\" alt=\"Open In Colab\"/></a>"
      ]
    },
    {
      "cell_type": "code",
      "source": [
        "__author__ = \"Aliyyah Uddin\"\n",
        "__version__ = \"IN3045 City, University of London, Spring 2025\""
      ],
      "metadata": {
        "id": "IbzjCqsrupf0"
      },
      "execution_count": null,
      "outputs": []
    },
    {
      "cell_type": "markdown",
      "source": [
        "NLP for clinical tasks\n",
        "\n",
        "NLP for essentially clinical tasks. So you have lots of data. It comes and people want to make quick decisions given sentences of this kind. So they have to identify has something happened to someone. What is that something. Okay. So this says the baby had cardiac arrest at 9 a.m.. So what are the entities here that potentially are going to be useful? 9 a.m. and the term cardiac arrest, which is sort of a named entity. It's a it's a kind of a procedure, or it's a kind of a pathology that clinicians are interested in. You see what I did? I did not only consider named entities of a form where they are all capitalised. So these are also a form of named entities. These are domain specific.\n",
        "\n",
        "https://huggingface.co/datasets/parsa-mhmdi/Medical_NER/viewer/default/train?row=46\n",
        "\n",
        "? Create a NER tagger for Swedish medical documents"
      ],
      "metadata": {
        "id": "hsN4jhi2dlfj"
      }
    },
    {
      "cell_type": "code",
      "source": [
        "pip install --upgrade huggingface_hub"
      ],
      "metadata": {
        "id": "WWkJmS4d3Anr"
      },
      "execution_count": null,
      "outputs": []
    },
    {
      "cell_type": "code",
      "source": [
        "from huggingface_hub import login\n",
        "login()"
      ],
      "metadata": {
        "id": "2uqXCa343FdI"
      },
      "execution_count": null,
      "outputs": []
    },
    {
      "cell_type": "code",
      "execution_count": null,
      "metadata": {
        "id": "pZO10NVsM6mW"
      },
      "outputs": [],
      "source": [
        "import pandas as pd\n",
        "\n",
        "# Login using e.g. `huggingface-cli login` to access this dataset\n",
        "df = pd.read_parquet(\"hf://datasets/parsa-mhmdi/Medical_NER/data/train-00000-of-00001.parquet\")"
      ]
    }
  ]
}