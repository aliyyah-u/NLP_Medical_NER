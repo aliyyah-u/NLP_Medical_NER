{
  "nbformat": 4,
  "nbformat_minor": 0,
  "metadata": {
    "colab": {
      "provenance": [],
      "authorship_tag": "ABX9TyPttXsctcmsIHbR6aWm2K9M",
      "include_colab_link": true
    },
    "kernelspec": {
      "name": "python3",
      "display_name": "Python 3"
    },
    "language_info": {
      "name": "python"
    }
  },
  "cells": [
    {
      "cell_type": "markdown",
      "metadata": {
        "id": "view-in-github",
        "colab_type": "text"
      },
      "source": [
        "<a href=\"https://colab.research.google.com/github/aliyyah-u/NLP_Medical_NER/blob/main/NLP_coursework.ipynb\" target=\"_parent\"><img src=\"https://colab.research.google.com/assets/colab-badge.svg\" alt=\"Open In Colab\"/></a>"
      ]
    },
    {
      "cell_type": "code",
      "source": [
        "__author__ = \"Aliyyah U.\"\n",
        "__version__ = \"IN3045 City St George's, University of London, Spring 2025\""
      ],
      "metadata": {
        "id": "IbzjCqsrupf0"
      },
      "execution_count": null,
      "outputs": []
    },
    {
      "cell_type": "markdown",
      "source": [
        "Coursework aim: information extraction from clinical data."
      ],
      "metadata": {
        "id": "0KHUpTjYkezF"
      }
    },
    {
      "cell_type": "code",
      "source": [
        "!pip install --upgrade huggingface_hub\n",
        "\n",
        "from huggingface_hub import login\n",
        "login()\n",
        "# Login using e.g. `huggingface-cli login` to access this dataset\n",
        "\n",
        "import pandas as pd\n",
        "\n",
        "df = pd.read_parquet(\"hf://datasets/parsa-mhmdi/Medical_NER/data/train-00000-of-00001.parquet\")"
      ],
      "metadata": {
        "id": "2uqXCa343FdI"
      },
      "execution_count": null,
      "outputs": []
    },
    {
      "cell_type": "code",
      "source": [
        "df[:5]"
      ],
      "metadata": {
        "id": "Gyvl4qV7ozEh"
      },
      "execution_count": null,
      "outputs": []
    },
    {
      "cell_type": "code",
      "source": [
        "ner_tags = df.ner_tags.tolist()\n",
        "tokens = df.tokens.tolist()\n",
        "print (tokens[:1])"
      ],
      "metadata": {
        "id": "01AIwMNNp1fO"
      },
      "execution_count": null,
      "outputs": []
    },
    {
      "cell_type": "code",
      "source": [
        "print (ner_tags[:1])"
      ],
      "metadata": {
        "id": "1TmLuNcfqAcz"
      },
      "execution_count": null,
      "outputs": []
    },
    {
      "cell_type": "code",
      "source": [
        "#extracting unique list of ner_tags\n",
        "\n",
        "ner_tags = df.ner_tags.tolist()\n",
        "\n",
        "unique_tags = set(tag for sublist in ner_tags for tag in sublist)\n",
        "\n",
        "print(sorted(unique_tags))"
      ],
      "metadata": {
        "id": "NSRAGEuq1qBQ"
      },
      "execution_count": null,
      "outputs": []
    },
    {
      "cell_type": "code",
      "source": [
        "for tag in sorted(unique_tags):\n",
        "    print(repr(tag))"
      ],
      "metadata": {
        "id": "urzG8MLx3Q1g"
      },
      "execution_count": null,
      "outputs": []
    },
    {
      "cell_type": "code",
      "source": [
        "import spacy"
      ],
      "metadata": {
        "id": "8_dRIA_ZlV1o"
      },
      "execution_count": null,
      "outputs": []
    }
  ]
}